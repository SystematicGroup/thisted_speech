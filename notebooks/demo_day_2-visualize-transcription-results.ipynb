{
 "cells": [
  {
   "cell_type": "markdown",
   "metadata": {},
   "source": [
    "# Results from the Prototype Day in Thisted in August\n",
    "\n",
    "## Imports"
   ]
  },
  {
   "cell_type": "code",
   "execution_count": null,
   "metadata": {},
   "outputs": [],
   "source": [
    "import sys; sys.path.insert(0, '..')\n",
    "import pandas as pd\n",
    "import plotly.express as px\n",
    "import re\n",
    "from jiwer import wer, mer, wil\n",
    "from utils import get_project_root\n",
    "import os\n",
    "\n",
    "pd.set_option(\"display.max_columns\", None) "
   ]
  },
  {
   "cell_type": "markdown",
   "metadata": {},
   "source": [
    "## Data"
   ]
  },
  {
   "cell_type": "code",
   "execution_count": null,
   "metadata": {
    "pycharm": {
     "name": "#%%\n"
    }
   },
   "outputs": [],
   "source": [
    "path = os.path.join(get_project_root(),'notebooks','prototype_testing_p2_jan.csv')\n",
    "\n",
    "# Google translation\n",
    "df = pd.read_csv(path, sep=';')\n",
    "df = df[['Filenavn2','Transkribering3','Google2']] \\\n",
    "    .rename(columns={'Google2':'Google', 'Filenavn2':'Filnavn', 'Transkribering3':'Transkribering'})\n",
    "df['Filnavn'] = df['Filnavn'].str.lower()\n",
    "\n",
    "df.head(3)"
   ]
  },
  {
   "cell_type": "code",
   "execution_count": null,
   "metadata": {},
   "outputs": [],
   "source": [
    "# Remove punctuation\n",
    "df['Transkribering'] = [re.sub(r'[\\,\\.\\?]+','', x) for x in df['Transkribering']]\n",
    "df['Google'] = [re.sub(r'[\\,\\.\\?]+','', x) for x in df['Google']]\n",
    "\n",
    "# Lowercase\n",
    "df['Transkribering'] = df.Transkribering.str.lower()\n",
    "df['Google'] = df['Google'].str.lower()\n",
    "\n",
    "# Add column for computer ID\n",
    "df['id'] = df['Filnavn'].astype(str).str[:5]\n",
    "df.head(3)"
   ]
  },
  {
   "cell_type": "markdown",
   "metadata": {},
   "source": [
    "## Word Error Rate"
   ]
  },
  {
   "cell_type": "code",
   "execution_count": null,
   "metadata": {
    "pycharm": {
     "name": "#%%\n"
    }
   },
   "outputs": [],
   "source": [
    "def add_columns(df, true_text, generated_text, speech_provider:str):\n",
    "\n",
    "    df[f\"sequence_matcher_{speech_provider}\"] = df.apply(lambda x: SequenceMatcher(None, x[generated_text], x[true_text]).ratio(),axis=1)\n",
    "    df[f\"word_error_rate_{speech_provider}\"] = df.apply(lambda x: wer(x[true_text], x[generated_text]), axis=1)\n",
    "    df[f\"match_error_rate_{speech_provider}\"] = df.apply(lambda x: mer(x[true_text], x[generated_text]), axis=1)\n",
    "    df[f\"word_information_lost_{speech_provider}\"] = df.apply(lambda x: wil(x[true_text], x[generated_text]), axis=1)\n",
    "\n",
    "    return df"
   ]
  },
  {
   "cell_type": "code",
   "execution_count": null,
   "metadata": {},
   "outputs": [],
   "source": [
    "df = add_columns(df, 'Transkribering', 'Google', 'google')\n",
    "\n",
    "print('Word Error Rate, Average:')\n",
    "print('Google:',df['word_error_rate_google'].mean())"
   ]
  },
  {
   "cell_type": "code",
   "execution_count": null,
   "metadata": {},
   "outputs": [],
   "source": [
    "# WER for each participant\n",
    "df[[\"word_error_rate_google\",'id']].groupby('id').mean()"
   ]
  },
  {
   "cell_type": "code",
   "execution_count": null,
   "metadata": {},
   "outputs": [],
   "source": [
    "def plot_WER(df, speech_provider):\n",
    "    visualization_df = df[[\"Filnavn\",f\"word_error_rate_{speech_provider}\", 'id']]\n",
    "    fig = px.scatter(visualization_df, x='id', y=f'word_error_rate_{speech_provider}', color='id',\n",
    "                    template='plotly_dark', marginal_y='box',\n",
    "                    labels={\n",
    "                        \"word_error_rate_google\": f\"Word Error Rate for {speech_provider}\",\n",
    "                        \"name\" : \"id\"\n",
    "                    }\n",
    "                    )\n",
    "    fig.update_traces(marker=dict(size=12, opacity=0.5))\n",
    "    fig.update_layout(legend=dict(\n",
    "        font=dict(size=12, color='white'),\n",
    "        bordercolor=\"White\",\n",
    "            borderwidth=2\n",
    "    ))\n",
    "    fig.show()"
   ]
  },
  {
   "cell_type": "code",
   "execution_count": null,
   "metadata": {},
   "outputs": [],
   "source": [
    "plot_WER(df, 'google')"
   ]
  },
  {
   "cell_type": "code",
   "execution_count": null,
   "metadata": {},
   "outputs": [],
   "source": [
    "fig = px.box(df[[\"Filnavn\",f\"word_error_rate_google\", 'id']], x ='id', y='word_error_rate_google', points='all', color='id'\n",
    "            ,template='plotly_dark', labels={\n",
    "                    \"word_error_rate_google\": \"Google Word Error Rate\"\n",
    "                }\n",
    "            )\n",
    "fig.update_layout(showlegend=False)\n",
    "fig.show()"
   ]
  },
  {
   "cell_type": "markdown",
   "metadata": {},
   "source": [
    "# Exploration of missing, matching and perceived words"
   ]
  },
  {
   "cell_type": "code",
   "execution_count": null,
   "metadata": {},
   "outputs": [],
   "source": [
    "def speech_to_text_analysis(df, speech_provider):\n",
    "    \n",
    "    # Finding matches\n",
    "    df[f'matches_{speech_provider}'] = df.apply(lambda x: ' '.join([i for i in x['Transkribering'].split() if i in x[f'{speech_provider}'].split()]), axis=1)\n",
    "\n",
    "    df[f'count_matches_{speech_provider}'] = df[f'matches_{speech_provider}'].str.split().str.len()\n",
    "    df[f'percent_match_{speech_provider}'] = (df[f'count_matches_{speech_provider}'] / df['Transkribering'].str.split().str.len()).round(2)\n",
    "    \n",
    "    if speech_provider == 'Google':\n",
    "        df[f'missing_words_{speech_provider}'] = df.apply(lambda x: [i for i in x['Transkribering'].split() if all(i not in x[c] for c in df.columns[2:3])], axis=1)\n",
    "\n",
    "    df[f'perceived_words_{speech_provider}'] = df.apply(lambda x: [i for i in x[f'{speech_provider}'].split() if all(i not in x[c] for c in df.columns[1:2])], axis=1)\n",
    "\n",
    "    df[f'missing_words_count_{speech_provider}'] = 0\n",
    "    for i in df.index:\n",
    "        df[f'missing_words_count_{speech_provider}'][i] = len(df[f'missing_words_{speech_provider}'][i])\n",
    "    \n",
    "    df[f'missing_%_{speech_provider}'] = (df[f'missing_words_count_{speech_provider}'] / df['Transkribering'].str.split().str.len()).round(2)\n",
    "\n",
    "    return df"
   ]
  },
  {
   "cell_type": "code",
   "execution_count": null,
   "metadata": {},
   "outputs": [],
   "source": [
    "df = speech_to_text_analysis(df,'Google')"
   ]
  },
  {
   "cell_type": "markdown",
   "metadata": {},
   "source": [
    "## Matches"
   ]
  },
  {
   "cell_type": "code",
   "execution_count": null,
   "metadata": {},
   "outputs": [],
   "source": [
    "maw_g = pd.DataFrame(df.matches_Google.str.split(expand=True).stack().value_counts()).reset_index().rename(columns={'index':'words', 0:'count'})\n",
    "maw_g['type'] = 'Google'"
   ]
  },
  {
   "cell_type": "code",
   "execution_count": null,
   "metadata": {},
   "outputs": [],
   "source": [
    "print('Matching words:')\n",
    "print('Google:',df['percent_match_Google'].mean())"
   ]
  },
  {
   "cell_type": "code",
   "execution_count": null,
   "metadata": {},
   "outputs": [],
   "source": [
    "fig = px.bar(\n",
    "    maw_g,\n",
    "    x='words',y='count',\n",
    "    title='Matching words',\n",
    "    template='plotly_dark',\n",
    "    color='type', barmode='group'\n",
    ")\n",
    "fig.show()"
   ]
  },
  {
   "cell_type": "markdown",
   "metadata": {},
   "source": [
    "## Missing words"
   ]
  },
  {
   "cell_type": "code",
   "execution_count": null,
   "metadata": {},
   "outputs": [],
   "source": [
    "print('Missing words:')\n",
    "print('Google:',df['missing_%_Google'].mean())"
   ]
  },
  {
   "cell_type": "code",
   "execution_count": null,
   "metadata": {},
   "outputs": [],
   "source": [
    "fig = px.bar(\n",
    "    df,\n",
    "    y='missing_%_Google',\n",
    "    text = df['missing_%_Google'],\n",
    "    color='id',\n",
    "    title='Missing words (Google)',\n",
    "    template='plotly_dark'\n",
    ")\n",
    "fig.update_traces(textposition='outside')\n",
    "fig.show()"
   ]
  },
  {
   "cell_type": "code",
   "execution_count": null,
   "metadata": {},
   "outputs": [],
   "source": [
    "print('mean score:', df['percent_match_Google'].mean())\n",
    "fig = px.bar(\n",
    "    df,\n",
    "    y='percent_match_Google', \n",
    "    color='id',\n",
    "    text = df['percent_match_Google'],\n",
    "    title=' % matches with the transcription (Google)',\n",
    "    template='plotly_dark'\n",
    ")\n",
    "fig.update_traces(textposition='outside')\n",
    "fig.show()"
   ]
  }
 ],
 "metadata": {
  "interpreter": {
   "hash": "a21a61161d3beef1d13ed1becb8c52d6c9c5fbf88b70d9a338b4151a6a241713"
  },
  "kernelspec": {
   "display_name": "Python 3.8.8 64-bit ('thisted_project': conda)",
   "name": "python3"
  },
  "language_info": {
   "codemirror_mode": {
    "name": "ipython",
    "version": 3
   },
   "file_extension": ".py",
   "mimetype": "text/x-python",
   "name": "python",
   "nbconvert_exporter": "python",
   "pygments_lexer": "ipython3",
   "version": "3.8.8"
  }
 },
 "nbformat": 4,
 "nbformat_minor": 1
}
